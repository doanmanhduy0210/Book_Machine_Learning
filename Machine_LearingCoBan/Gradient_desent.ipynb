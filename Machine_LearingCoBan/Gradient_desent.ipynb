{
 "cells": [
  {
   "cell_type": "code",
   "execution_count": 1,
   "metadata": {},
   "outputs": [],
   "source": [
    "# gradient desent "
   ]
  },
  {
   "cell_type": "code",
   "execution_count": 15,
   "metadata": {},
   "outputs": [],
   "source": [
    "import numpy as np "
   ]
  },
  {
   "cell_type": "code",
   "execution_count": 16,
   "metadata": {},
   "outputs": [],
   "source": [
    "from numpy import linalg as la "
   ]
  },
  {
   "cell_type": "code",
   "execution_count": 17,
   "metadata": {},
   "outputs": [],
   "source": [
    "def grad(x): \n",
    "    return 2*x + 5* np.cos(x)\n"
   ]
  },
  {
   "cell_type": "code",
   "execution_count": 18,
   "metadata": {},
   "outputs": [],
   "source": [
    "def cost(x): \n",
    "    return x**2 + 5 * np.sin(x)"
   ]
  },
  {
   "cell_type": "code",
   "execution_count": 38,
   "metadata": {},
   "outputs": [],
   "source": [
    "def myGD1 (x0, eta): \n",
    "    x = [x0]\n",
    "    cost_value = []\n",
    "    for it in range (100):\n",
    "        x_new = x[-1] - eta* grad(x[-1])\n",
    "        if abs( grad (x_new)) < 1e-3: \n",
    "            break \n",
    "        x.append (x_new)\n",
    "        cost_value.append(cost(x_new))\n",
    "    return (x,it,cost_value)"
   ]
  },
  {
   "cell_type": "code",
   "execution_count": 43,
   "metadata": {},
   "outputs": [],
   "source": [
    "(x1 , it1, cost_value1)  = myGD1( -5, 0.1)\n"
   ]
  },
  {
   "cell_type": "code",
   "execution_count": 44,
   "metadata": {},
   "outputs": [],
   "source": [
    "(x2 , it2, cost_value2)  = myGD1( 5,  0.1)"
   ]
  },
  {
   "cell_type": "code",
   "execution_count": 45,
   "metadata": {},
   "outputs": [
    {
     "name": "stdout",
     "output_type": "stream",
     "text": [
      "print resutl x1 = -1.110667, cost = -3.246394 , after 11 iterations \n"
     ]
    }
   ],
   "source": [
    "print ( 'print resutl x1 = %f, cost = %f , after %d iterations ' %(x1[-1], cost (x1[-1]), it1))"
   ]
  },
  {
   "cell_type": "code",
   "execution_count": 46,
   "metadata": {},
   "outputs": [
    {
     "name": "stdout",
     "output_type": "stream",
     "text": [
      "print resutl x2 = -1.110341, cost = -3.246394, after 29 iterations \n"
     ]
    }
   ],
   "source": [
    "print ( 'print resutl x2 = %f, cost = %f, after %d iterations ' %(x2[-1],  cost (x2[-1]), it2))"
   ]
  },
  {
   "cell_type": "code",
   "execution_count": 51,
   "metadata": {},
   "outputs": [
    {
     "name": "stdout",
     "output_type": "stream",
     "text": [
      "-1.110811646880524\n",
      "-3.246393978871497\n"
     ]
    }
   ],
   "source": [
    "(x3, it3, cost_value3) = myGD1(-10, 0.1)\n",
    "print (x3[-1])\n",
    "print (cost_value[-1])"
   ]
  },
  {
   "cell_type": "code",
   "execution_count": 48,
   "metadata": {},
   "outputs": [
    {
     "name": "stdout",
     "output_type": "stream",
     "text": [
      "14\n"
     ]
    }
   ],
   "source": [
    "print (it3)"
   ]
  },
  {
   "cell_type": "code",
   "execution_count": 49,
   "metadata": {},
   "outputs": [],
   "source": [
    "X = np.random.rand(1000)"
   ]
  },
  {
   "cell_type": "code",
   "execution_count": 50,
   "metadata": {},
   "outputs": [
    {
     "name": "stdout",
     "output_type": "stream",
     "text": [
      "[0.58150849 0.7367092  0.90035482 0.03778324 0.50752439 0.94014328\n",
      " 0.92642098 0.68258883 0.7698834  0.77525648 0.59053801 0.19717557\n",
      " 0.36201235 0.73686994 0.66942753 0.37412122 0.66154037 0.70714412\n",
      " 0.2190193  0.05593804 0.62793178 0.11705942 0.60604684 0.8009999\n",
      " 0.27264839 0.31451993 0.36984116 0.39938126 0.81560974 0.87779774\n",
      " 0.42092446 0.80214243 0.94160068 0.44441456 0.67291223 0.51845615\n",
      " 0.42003899 0.15539837 0.08678442 0.99300761 0.96043266 0.09678656\n",
      " 0.60543591 0.85426927 0.13331252 0.2245771  0.6718115  0.80528558\n",
      " 0.57129036 0.49022552 0.19764375 0.08612212 0.15664548 0.22041871\n",
      " 0.7821591  0.47284581 0.56117849 0.5091391  0.28137904 0.26726551\n",
      " 0.23447549 0.36005525 0.10312038 0.96164021 0.28617849 0.55538202\n",
      " 0.44088736 0.49434083 0.05586438 0.96185069 0.65876124 0.49013485\n",
      " 0.31637664 0.91040183 0.20935068 0.7035921  0.95624683 0.20843758\n",
      " 0.35977822 0.52631338 0.98569564 0.86078375 0.79193006 0.89588315\n",
      " 0.85240324 0.7848591  0.83909602 0.91734845 0.07525452 0.06554837\n",
      " 0.52132823 0.09977921 0.09890958 0.63190692 0.03399206 0.24526642\n",
      " 0.53161646 0.29175605 0.06875344 0.2627031  0.33816099 0.53879744\n",
      " 0.74354047 0.40036018 0.97415782 0.70564007 0.45196736 0.56595682\n",
      " 0.82187192 0.94936394 0.2192954  0.55811144 0.30583579 0.95328421\n",
      " 0.61074827 0.35915831 0.9023284  0.88753182 0.78057042 0.63618873\n",
      " 0.0169598  0.69136263 0.56141933 0.33638977 0.55236365 0.37125574\n",
      " 0.75243827 0.0349014  0.89374246 0.13794461 0.91363893 0.34601982\n",
      " 0.73822478 0.27060407 0.06408995 0.92249317 0.54876244 0.60291163\n",
      " 0.56288448 0.7441506  0.03988363 0.60617875 0.57327342 0.98663881\n",
      " 0.23420782 0.41569831 0.65781602 0.05961343 0.31812136 0.04259412\n",
      " 0.13890343 0.21799446 0.02846904 0.99881423 0.38582593 0.8560267\n",
      " 0.61701691 0.05981808 0.00528129 0.67260989 0.0164394  0.56889743\n",
      " 0.99132258 0.33515616 0.43311636 0.18939341 0.45401465 0.85364257\n",
      " 0.69783627 0.34239795 0.96183914 0.25932597 0.8537803  0.6196602\n",
      " 0.88654402 0.15775459 0.45421816 0.38380935 0.26529467 0.094101\n",
      " 0.42330214 0.40244493 0.67006659 0.60827356 0.80565003 0.52842656\n",
      " 0.82394119 0.43183851 0.52422582 0.79942787 0.0586259  0.76687605\n",
      " 0.85223114 0.29957309 0.12705755 0.52760555 0.5941881  0.5551332\n",
      " 0.18687815 0.65378537 0.10342123 0.3798832  0.4850797  0.57158914\n",
      " 0.8883278  0.12167844 0.50345869 0.80773196 0.45120885 0.1176949\n",
      " 0.23859014 0.80913956 0.28397651 0.14067471 0.7656669  0.03317541\n",
      " 0.66779844 0.29584129 0.45941845 0.24862828 0.80438753 0.43364433\n",
      " 0.85079402 0.79499157 0.38793282 0.32832164 0.33420882 0.41474502\n",
      " 0.84870276 0.73154553 0.97986375 0.72269002 0.06320288 0.19319785\n",
      " 0.50157203 0.36565579 0.98199566 0.37304502 0.55535264 0.39427688\n",
      " 0.05971406 0.78327814 0.19319442 0.5454808  0.84102183 0.30677526\n",
      " 0.67171769 0.79476389 0.06404012 0.25543645 0.14904254 0.06284168\n",
      " 0.87311722 0.78956959 0.17162605 0.2428446  0.56119244 0.25363443\n",
      " 0.59875638 0.9301583  0.88925805 0.07405478 0.45277869 0.69633166\n",
      " 0.13123714 0.37564036 0.12028803 0.32472586 0.58085501 0.52451113\n",
      " 0.77261029 0.38675279 0.15760115 0.10822286 0.75207428 0.6785084\n",
      " 0.50077521 0.64824964 0.06915766 0.54632276 0.0665495  0.93943557\n",
      " 0.09146461 0.35472152 0.67339048 0.25882791 0.10364594 0.68312261\n",
      " 0.31221701 0.48495445 0.64990554 0.98930926 0.99953306 0.73795242\n",
      " 0.30771398 0.98841191 0.36549738 0.41196291 0.25362987 0.53278043\n",
      " 0.53234956 0.11658255 0.46171647 0.13248013 0.92082848 0.24384586\n",
      " 0.62999376 0.19325831 0.36485946 0.29738838 0.24959562 0.94975557\n",
      " 0.62080042 0.95547826 0.49430674 0.00239534 0.39010953 0.31193477\n",
      " 0.5146423  0.55971934 0.25859812 0.01247293 0.9898048  0.14258754\n",
      " 0.87686506 0.4958857  0.29235287 0.65081223 0.93218245 0.74496193\n",
      " 0.65220484 0.3976229  0.31086992 0.45754848 0.78751401 0.53083245\n",
      " 0.67369586 0.10163621 0.75491337 0.51661055 0.84315616 0.13020661\n",
      " 0.84636883 0.26380381 0.53166255 0.68342825 0.52052711 0.21107665\n",
      " 0.99810829 0.63512471 0.35843966 0.1082521  0.03536954 0.35974697\n",
      " 0.82925701 0.76572184 0.33891628 0.94165497 0.49826767 0.88129331\n",
      " 0.12326216 0.47689131 0.42957267 0.93627434 0.43619418 0.7705749\n",
      " 0.67801491 0.66016242 0.57975906 0.76724294 0.48449632 0.03197797\n",
      " 0.09795286 0.79518373 0.05383769 0.25012498 0.46376908 0.25494804\n",
      " 0.44261639 0.07591415 0.1970807  0.09906019 0.1602577  0.90045104\n",
      " 0.59748038 0.2394147  0.47635799 0.18356017 0.51935453 0.4949776\n",
      " 0.3160085  0.64438992 0.84737832 0.68015092 0.56318598 0.05894391\n",
      " 0.07636146 0.33287882 0.25356773 0.05173278 0.50354399 0.68426333\n",
      " 0.56180205 0.1462152  0.2252162  0.86859572 0.69600529 0.99340671\n",
      " 0.69218273 0.82606476 0.09436416 0.03750924 0.41494998 0.83414085\n",
      " 0.61634701 0.86810203 0.38937134 0.58139159 0.49572425 0.61451561\n",
      " 0.32289463 0.79631717 0.83780994 0.97232485 0.37700446 0.01884033\n",
      " 0.91635664 0.43849068 0.28647569 0.80794723 0.83123186 0.08555688\n",
      " 0.23712957 0.8549081  0.27690341 0.81780172 0.47702072 0.44908417\n",
      " 0.85189    0.25010315 0.63594139 0.81069317 0.09809497 0.17129132\n",
      " 0.23772296 0.22938177 0.05051846 0.53736569 0.42956038 0.36186585\n",
      " 0.12103889 0.64283352 0.06794257 0.89059938 0.71301612 0.53802943\n",
      " 0.46646135 0.22575288 0.24517332 0.52230977 0.80265845 0.38365071\n",
      " 0.63008632 0.12978639 0.65642165 0.96994345 0.2321202  0.73755513\n",
      " 0.79844948 0.31202075 0.42054692 0.6122115  0.64270715 0.55073075\n",
      " 0.42034679 0.15803548 0.8753566  0.65484042 0.71212349 0.08041956\n",
      " 0.6685606  0.30544019 0.51920015 0.42606696 0.51380164 0.89317629\n",
      " 0.18696573 0.22347993 0.48416817 0.36430812 0.12041018 0.96442202\n",
      " 0.32186096 0.29231279 0.23159558 0.5021585  0.22460716 0.72794496\n",
      " 0.96033069 0.25316807 0.9964949  0.57879393 0.13087738 0.68528048\n",
      " 0.93282593 0.24155507 0.38424936 0.71241036 0.59399565 0.77767585\n",
      " 0.73451278 0.54258886 0.09841009 0.33746351 0.61816541 0.91835019\n",
      " 0.29953157 0.34541053 0.06813953 0.38933932 0.27202677 0.55447662\n",
      " 0.10528572 0.24344789 0.50409481 0.43556856 0.55859146 0.39137666\n",
      " 0.6742023  0.89535988 0.99987528 0.69561959 0.2524758  0.94012566\n",
      " 0.45062158 0.60990041 0.8971895  0.06620298 0.75450822 0.49691629\n",
      " 0.21365218 0.85245871 0.10620787 0.21281657 0.99663819 0.24367447\n",
      " 0.594383   0.78184489 0.83731093 0.29809259 0.68152452 0.07070194\n",
      " 0.23294483 0.05559772 0.51450095 0.62182117 0.77694444 0.63270877\n",
      " 0.32402307 0.81508737 0.69092113 0.70302038 0.41116286 0.01153852\n",
      " 0.7316306  0.03821586 0.48320876 0.17747986 0.50409596 0.06777054\n",
      " 0.24366664 0.23550508 0.38349323 0.02415394 0.381947   0.55898441\n",
      " 0.17984462 0.39798038 0.50191052 0.18274979 0.32103693 0.91676782\n",
      " 0.78665096 0.35430701 0.77393105 0.02746548 0.43278491 0.21682026\n",
      " 0.61836149 0.68407754 0.94103103 0.34252597 0.39225316 0.97794282\n",
      " 0.41337115 0.14082323 0.9692397  0.10052296 0.43683975 0.39041112\n",
      " 0.55969327 0.13690126 0.28486835 0.26592385 0.76114148 0.58250808\n",
      " 0.81582794 0.71884428 0.0709003  0.63341772 0.88943716 0.58971456\n",
      " 0.71991021 0.59922017 0.80431719 0.33649081 0.25731501 0.20509724\n",
      " 0.52215029 0.2378923  0.73835653 0.8513632  0.73423156 0.16991105\n",
      " 0.72001678 0.05829991 0.75782388 0.52946114 0.5565516  0.8895399\n",
      " 0.25142088 0.97968511 0.94921952 0.53740567 0.50200105 0.48589599\n",
      " 0.16044885 0.39518108 0.05167234 0.63769002 0.07945608 0.8933008\n",
      " 0.65950779 0.65261817 0.76347984 0.09027803 0.38012006 0.100451\n",
      " 0.01383637 0.58087175 0.92604311 0.80641201 0.31237279 0.38359245\n",
      " 0.04093529 0.23786201 0.24913076 0.68423795 0.81845114 0.02970121\n",
      " 0.92582072 0.36958775 0.30857704 0.11346315 0.74820062 0.70571176\n",
      " 0.40951706 0.97857536 0.19641929 0.89887756 0.52014251 0.2492816\n",
      " 0.54595865 0.33888219 0.35580692 0.49225768 0.49740423 0.37956807\n",
      " 0.98433949 0.69936498 0.2777292  0.58754184 0.74788544 0.87882999\n",
      " 0.51208713 0.82946115 0.52740222 0.15289734 0.70165246 0.53614335\n",
      " 0.02013264 0.9127299  0.73613835 0.78317511 0.59484833 0.09114483\n",
      " 0.21360417 0.1340057  0.25480957 0.09478258 0.75040038 0.86520367\n",
      " 0.65996902 0.99015364 0.61618086 0.28258499 0.0510461  0.51411161\n",
      " 0.51130715 0.96004312 0.33001976 0.23484051 0.34401594 0.87134447\n",
      " 0.63205348 0.8833201  0.33450584 0.50353934 0.53972095 0.67859053\n",
      " 0.8273675  0.53618393 0.94535982 0.32922969 0.88184242 0.69531441\n",
      " 0.25772605 0.05394567 0.33184835 0.85413393 0.50614776 0.28238406\n",
      " 0.38129737 0.72349467 0.1664543  0.45324662 0.25410657 0.69802316\n",
      " 0.39236468 0.42202422 0.9383921  0.50778965 0.71858065 0.90827761\n",
      " 0.05939143 0.30280833 0.74313609 0.04430624 0.6688084  0.73570771\n",
      " 0.24980573 0.8115541  0.26663522 0.04255183 0.64741543 0.85408493\n",
      " 0.10851581 0.27251036 0.02937259 0.71305605 0.40295339 0.81715408\n",
      " 0.9984944  0.7736492  0.54997204 0.54968893 0.59581055 0.74685764\n",
      " 0.5024399  0.90081374 0.89401238 0.46802307 0.52225518 0.60585384\n",
      " 0.39274693 0.84766595 0.24002185 0.08437135 0.69117148 0.87019356\n",
      " 0.46827212 0.23850991 0.53689571 0.7500001  0.14637491 0.41444339\n",
      " 0.66196643 0.84081696 0.56702685 0.01564998 0.06578384 0.21642047\n",
      " 0.79651976 0.93479452 0.63017881 0.49456196 0.42048257 0.17654972\n",
      " 0.27541662 0.95156564 0.87225852 0.76913068 0.88985206 0.81711964\n",
      " 0.79798646 0.33271567 0.06423277 0.79926444 0.48471533 0.17728675\n",
      " 0.39286679 0.80893978 0.43007582 0.35717745 0.28092868 0.4657286\n",
      " 0.7052054  0.25177682 0.80468272 0.56709913 0.22694175 0.29055746\n",
      " 0.9962811  0.78419389 0.24282112 0.34164714 0.29500623 0.219973\n",
      " 0.69982212 0.81774137 0.72952305 0.52347183 0.39935744 0.3267804\n",
      " 0.03778698 0.42564202 0.72903431 0.76933676 0.83725807 0.13331639\n",
      " 0.62274541 0.62095953 0.33286712 0.79027978 0.87623509 0.43145186\n",
      " 0.55033607 0.77413591 0.50797793 0.50982661 0.8545352  0.79229602\n",
      " 0.64663269 0.96823361 0.52177843 0.56098877 0.12755309 0.17391707\n",
      " 0.51685857 0.39048334 0.08213733 0.62617962 0.7129304  0.34548557\n",
      " 0.50070326 0.93369785 0.00923736 0.73555867 0.52895666 0.07496688\n",
      " 0.23057938 0.07316445 0.42104327 0.90695745 0.25311529 0.41052947\n",
      " 0.70240519 0.0372079  0.48494983 0.07720441 0.45055468 0.93643594\n",
      " 0.24246078 0.2298207  0.67498233 0.85608298 0.44786082 0.2449347\n",
      " 0.73879624 0.07190624 0.71944164 0.80912275 0.1082534  0.13722208\n",
      " 0.62654305 0.68027255 0.51992222 0.90537139 0.47334386 0.49857522\n",
      " 0.87677307 0.4749597  0.40735547 0.29285313 0.95004817 0.96843167\n",
      " 0.69840806 0.26919352 0.68698209 0.44346207 0.67225749 0.45780581\n",
      " 0.33950107 0.22581351 0.94133297 0.67510174 0.97783868 0.30790582\n",
      " 0.42625375 0.12810509 0.06726464 0.83297868 0.7639198  0.07234319\n",
      " 0.72253882 0.95522449 0.46068034 0.87190821 0.74807823 0.73690251\n",
      " 0.88064033 0.6833809  0.92072636 0.64578212 0.33594105 0.60106474\n",
      " 0.99819533 0.99802353 0.41540781 0.04071296 0.58309626 0.89621607\n",
      " 0.25013445 0.52545168 0.85233652 0.81041884 0.41017228 0.70018097\n",
      " 0.30173846 0.28639733 0.69860053 0.10997639 0.59358123 0.95903187\n",
      " 0.77638985 0.81868292 0.37806724 0.11486708 0.41674361 0.24148932\n",
      " 0.31893019 0.86812342 0.55738046 0.77935096 0.85096655 0.23108979\n",
      " 0.92830381 0.48410092 0.65287569 0.15694172 0.54177018 0.47180251\n",
      " 0.98813737 0.06446753 0.87604956 0.03098861 0.05854709 0.93160197\n",
      " 0.5977938  0.17798844 0.26293837 0.57475007 0.06690916 0.67638932\n",
      " 0.50074642 0.41469508 0.39931588 0.40738947 0.98412766 0.10701595\n",
      " 0.93774944 0.62538403 0.97996786 0.3237878  0.65152295 0.2728244\n",
      " 0.74877031 0.23786283 0.19424487 0.89032193]\n"
     ]
    }
   ],
   "source": [
    "print (X)"
   ]
  },
  {
   "cell_type": "code",
   "execution_count": 32,
   "metadata": {},
   "outputs": [
    {
     "name": "stdout",
     "output_type": "stream",
     "text": [
      "5\n"
     ]
    }
   ],
   "source": [
    "a = [5]\n",
    "for i in a: \n",
    "    print (i)"
   ]
  },
  {
   "cell_type": "code",
   "execution_count": 52,
   "metadata": {},
   "outputs": [],
   "source": [
    "# linear regression. useing lost function "
   ]
  },
  {
   "cell_type": "code",
   "execution_count": 56,
   "metadata": {},
   "outputs": [],
   "source": [
    "from __future__ import division, print_function, unicode_literals \n",
    "import numpy as np \n",
    "import matplotlib \n",
    "import matplotlib.pyplot as plt "
   ]
  },
  {
   "cell_type": "code",
   "execution_count": 57,
   "metadata": {},
   "outputs": [],
   "source": [
    "np.random.seed(2)"
   ]
  },
  {
   "cell_type": "code",
   "execution_count": 65,
   "metadata": {},
   "outputs": [],
   "source": [
    "x = np.random.rand(1000,1)"
   ]
  },
  {
   "cell_type": "code",
   "execution_count": 68,
   "metadata": {},
   "outputs": [],
   "source": [
    "y = 4 + 3*x  + 2*np.random.rand (1000,1)"
   ]
  },
  {
   "cell_type": "code",
   "execution_count": 79,
   "metadata": {},
   "outputs": [
    {
     "name": "stdout",
     "output_type": "stream",
     "text": [
      "my result: w =  [[4.98258157 2.95929801]]\n"
     ]
    }
   ],
   "source": [
    "one = np.ones( (x.shape[0],1))\n",
    "xbar = np.concatenate((one,x), axis = 1) \n",
    "A = np.dot(xbar.T, xbar )\n",
    "B =np.dot (xbar.T,y)\n",
    "w_lr = np.dot(la.pinv (A), B)\n",
    "print ('my result: w = ', w_lr.T)"
   ]
  },
  {
   "cell_type": "code",
   "execution_count": 81,
   "metadata": {},
   "outputs": [],
   "source": [
    "w = w_lr \n",
    "w_0 = w[0][0]\n",
    "w_1 = w[1][0]\n",
    "x0 = np.linspace (0,1,2, endpoint = True)\n",
    "y0 = w_0 + w_1* x0"
   ]
  },
  {
   "cell_type": "code",
   "execution_count": 93,
   "metadata": {},
   "outputs": [
    {
     "data": {
      "text/plain": [
       "<function matplotlib.pyplot.show>"
      ]
     },
     "execution_count": 93,
     "metadata": {},
     "output_type": "execute_result"
    },
    {
     "data": {
      "image/png": "[encoded data removed]",
      "text/plain": [
       "<Figure size 432x288 with 1 Axes>"
      ]
     },
     "metadata": {},
     "output_type": "display_data"
    }
   ],
   "source": [
    "\n",
    "plt.plot (x, y, 'ro')\n",
    "plt.axis([0, 1, 0, 10])\n",
    "\n",
    "plt.plot (x.T, y.T, 'b')\n",
    "plt.plot(x0,y0, 'blue' , linewidth = 2) \n",
    "plt.axis ([0,1,0,10])\n",
    "plt.show\n"
   ]
  },
  {
   "cell_type": "code",
   "execution_count": 94,
   "metadata": {},
   "outputs": [],
   "source": [
    "# single point gradient\n",
    "def sgrad(w, i, rd_id):\n",
    "    true_i = rd_id[i]\n",
    "    xi = xbar[true_i, :]\n",
    "    yi = y[true_i]\n",
    "    a = np.dot(xi, w) - yi\n",
    "    return (xi*a).reshape(2, 1)\n",
    "\n",
    "def SGD(w_init, grad, eta):\n",
    "    w = [w_init]\n",
    "    w_last_check = w_init\n",
    "    iter_check_w = 10\n",
    "    N = X.shape[0]\n",
    "    count = 0\n",
    "    for it in range(10):\n",
    "        # shuffle data \n",
    "        rd_id = np.random.permutation(N)\n",
    "        for i in range(N):\n",
    "            count += 1 \n",
    "            g = sgrad(w[-1], i, rd_id)\n",
    "            w_new = w[-1] - eta*g\n",
    "            w.append(w_new)\n",
    "            if count%iter_check_w == 0:\n",
    "                w_this_check = w_new                 \n",
    "                if np.linalg.norm(w_this_check - w_last_check)/len(w_init) < 1e-3:                                    \n",
    "                    return w\n",
    "                w_last_check = w_this_check\n",
    "    return w"
   ]
  },
  {
   "cell_type": "code",
   "execution_count": null,
   "metadata": {},
   "outputs": [],
   "source": [
    "SGD()"
   ]
  },
  {
   "cell_type": "code",
   "execution_count": null,
   "metadata": {},
   "outputs": [],
   "source": []
  },
  {
   "cell_type": "code",
   "execution_count": null,
   "metadata": {},
   "outputs": [],
   "source": []
  },
  {
   "cell_type": "code",
   "execution_count": null,
   "metadata": {},
   "outputs": [],
   "source": []
  },
  {
   "cell_type": "code",
   "execution_count": null,
   "metadata": {},
   "outputs": [],
   "source": []
  },
  {
   "cell_type": "code",
   "execution_count": null,
   "metadata": {},
   "outputs": [],
   "source": []
  },
  {
   "cell_type": "code",
   "execution_count": null,
   "metadata": {},
   "outputs": [],
   "source": []
  },
  {
   "cell_type": "code",
   "execution_count": null,
   "metadata": {},
   "outputs": [],
   "source": []
  },
  {
   "cell_type": "code",
   "execution_count": null,
   "metadata": {},
   "outputs": [],
   "source": []
  }
 ],
 "metadata": {
  "kernelspec": {
   "display_name": "Python 3",
   "language": "python",
   "name": "python3"
  },
  "language_info": {
   "codemirror_mode": {
    "name": "ipython",
    "version": 3
   },
   "file_extension": ".py",
   "mimetype": "text/x-python",
   "name": "python",
   "nbconvert_exporter": "python",
   "pygments_lexer": "ipython3",
   "version": "3.6.9"
  }
 },
 "nbformat": 4,
 "nbformat_minor": 2
}
